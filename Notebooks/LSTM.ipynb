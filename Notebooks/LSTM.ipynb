{
  "cells": [
    {
      "cell_type": "code",
      "execution_count": 1,
      "metadata": {
        "colab": {
          "base_uri": "https://localhost:8080/"
        },
        "id": "6TPaKHWNW6o1",
        "outputId": "f4703d03-9d4d-4400-cff5-0e490cca7e17"
      },
      "outputs": [
        {
          "output_type": "stream",
          "name": "stdout",
          "text": [
            "Archive:  /content/go_emotion.zip\n",
            "replace GoEmotionsFormat.PNG? [y]es, [n]o, [A]ll, [N]one, [r]ename: "
          ]
        }
      ],
      "source": [
        "# !unzip /content/go_emotion.zip"
      ]
    },
    {
      "cell_type": "code",
      "source": [
        "import numpy as np\n",
        "import tensorflow as tf\n",
        "from tensorflow.keras.preprocessing.text import Tokenizer\n",
        "from tensorflow.keras.preprocessing.sequence import pad_sequences\n",
        "from tensorflow.keras.models import Sequential\n",
        "from tensorflow.keras.layers import LSTM, Dense, Embedding, Dropout\n",
        "from tensorflow.keras.optimizers import Adam\n",
        "from keras.regularizers import l2\n",
        "\n",
        "\n",
        "import warnings\n",
        "warnings.filterwarnings('ignore')"
      ],
      "metadata": {
        "id": "9_n9oGigRnuP"
      },
      "execution_count": 2,
      "outputs": []
    },
    {
      "cell_type": "code",
      "execution_count": 3,
      "metadata": {
        "id": "wS3W5RnNWGGK"
      },
      "outputs": [],
      "source": [
        "import pandas as pd\n",
        "\n",
        "df1 = pd.read_csv('data/full_dataset/goemotions_1.csv')\n",
        "df2 = pd.read_csv('data/full_dataset/goemotions_2.csv')\n",
        "df3 = pd.read_csv('data/full_dataset/goemotions_3.csv')\n",
        "df = pd.concat([df1, df2, df3], ignore_index=True)\n",
        "\n",
        "emotion_map = {\n",
        "    'anger': 'marah',\n",
        "    'sadness': 'sedih',\n",
        "    'joy': 'senang',\n",
        "    'neutral': 'netral'\n",
        "}\n",
        "selected_emotions = ['anger', 'sadness', 'joy', 'neutral']\n",
        "df_filtered = df[df[selected_emotions].any(axis=1)]\n",
        "\n",
        "def get_emotion(row):\n",
        "    for emotion in selected_emotions:\n",
        "        if row[emotion] == 1:\n",
        "            return emotion_map[emotion]\n",
        "    return 'netral'  # Default jika netral\n",
        "\n",
        "df_filtered['emotion'] = df_filtered.apply(get_emotion, axis=1)\n",
        "df_filtered = df_filtered[['text', 'emotion']]\n",
        "\n",
        "\n"
      ]
    },
    {
      "cell_type": "code",
      "execution_count": 4,
      "metadata": {
        "colab": {
          "base_uri": "https://localhost:8080/"
        },
        "id": "Ecy7PchXZOmD",
        "outputId": "bb398f8b-e211-4d29-c026-3a660bf53c1d"
      },
      "outputs": [
        {
          "output_type": "stream",
          "name": "stdout",
          "text": [
            "Jumlah data dan kolom: (77890, 2)\n"
          ]
        }
      ],
      "source": [
        "print(\"Jumlah data dan kolom:\", df_filtered.shape)"
      ]
    },
    {
      "cell_type": "code",
      "execution_count": 5,
      "metadata": {
        "id": "EuZ5GPs2aRlb"
      },
      "outputs": [],
      "source": [
        "df_filtered.duplicated().sum()\n",
        "df_filtered.drop_duplicates(inplace=True)"
      ]
    },
    {
      "cell_type": "code",
      "execution_count": 6,
      "metadata": {
        "colab": {
          "base_uri": "https://localhost:8080/"
        },
        "id": "ye6b1sq0aceH",
        "outputId": "39ddf9e8-5f15-4b00-b738-c44c638e5ba4"
      },
      "outputs": [
        {
          "output_type": "stream",
          "name": "stdout",
          "text": [
            "Jumlah data dan kolom: (47308, 2)\n"
          ]
        }
      ],
      "source": [
        "print(\"Jumlah data dan kolom:\", df_filtered.shape)"
      ]
    },
    {
      "cell_type": "code",
      "execution_count": 7,
      "metadata": {
        "colab": {
          "base_uri": "https://localhost:8080/"
        },
        "id": "qX2jYmdJZPDn",
        "outputId": "15132fd3-e86a-48e6-a6d8-41e401d1dfd3"
      },
      "outputs": [
        {
          "output_type": "stream",
          "name": "stdout",
          "text": [
            "\n",
            "Jumlah data yang hilang di setiap kolom:\n",
            "text       0\n",
            "emotion    0\n",
            "dtype: int64\n"
          ]
        }
      ],
      "source": [
        "print(\"\\nJumlah data yang hilang di setiap kolom:\")\n",
        "print(df_filtered.isnull().sum())"
      ]
    },
    {
      "cell_type": "code",
      "execution_count": 8,
      "metadata": {
        "colab": {
          "base_uri": "https://localhost:8080/"
        },
        "id": "58D3kq9XZQxY",
        "outputId": "8dad891f-9a5a-4486-d151-854edb5df378"
      },
      "outputs": [
        {
          "output_type": "stream",
          "name": "stdout",
          "text": [
            "\n",
            "Distribusi emosi dalam dataset:\n",
            "emotion\n",
            "netral    31446\n",
            "marah      5644\n",
            "senang     5634\n",
            "sedih      4584\n",
            "Name: count, dtype: int64\n"
          ]
        }
      ],
      "source": [
        "print(\"\\nDistribusi emosi dalam dataset:\")\n",
        "print(df_filtered['emotion'].value_counts())"
      ]
    },
    {
      "cell_type": "code",
      "execution_count": 9,
      "metadata": {
        "colab": {
          "base_uri": "https://localhost:8080/"
        },
        "id": "v_UbjTG-a21z",
        "outputId": "101de9da-30b9-4700-8680-a573e597a1aa"
      },
      "outputs": [
        {
          "output_type": "stream",
          "name": "stdout",
          "text": [
            "emotion\n",
            "marah     5644\n",
            "senang    5634\n",
            "netral    4846\n",
            "sedih     4584\n",
            "Name: count, dtype: int64\n"
          ]
        }
      ],
      "source": [
        "df_netral = df_filtered[df_filtered['emotion'] == 'netral']\n",
        "df_marah = df_filtered[df_filtered['emotion'] == 'marah']\n",
        "df_senang = df_filtered[df_filtered['emotion'] == 'senang']\n",
        "df_sedih = df_filtered[df_filtered['emotion'] == 'sedih']\n",
        "\n",
        "df_netral_reduced = df_netral.sample(n=4846, random_state=42)\n",
        "\n",
        "df_balanced = pd.concat([df_netral_reduced, df_marah, df_senang, df_sedih])\n",
        "\n",
        "\n",
        "df_balanced = df_balanced.sample(frac=1, random_state=42).reset_index(drop=True)\n",
        "\n",
        "print(df_balanced['emotion'].value_counts())\n"
      ]
    },
    {
      "cell_type": "code",
      "execution_count": 10,
      "metadata": {
        "colab": {
          "base_uri": "https://localhost:8080/"
        },
        "id": "x9eBjs91XZYT",
        "outputId": "3a1c4f77-9f73-40b2-8014-cddc91575468"
      },
      "outputs": [
        {
          "output_type": "stream",
          "name": "stdout",
          "text": [
            "                                                text emotion\n",
            "0  She eats it until she throws up the first snow...  senang\n",
            "1  I mean, who doesnt? But youre right, techgore ...  netral\n",
            "2  I have decided to put myself first and see wha...  senang\n",
            "3                                    Sorry. Bad day.   sedih\n",
            "4            welcome to the community, my good dude!  senang\n"
          ]
        }
      ],
      "source": [
        "print(df_balanced.head(5))"
      ]
    },
    {
      "cell_type": "code",
      "source": [
        "from sklearn.model_selection import train_test_split\n",
        "from sklearn.preprocessing import LabelEncoder\n",
        "\n",
        "\n",
        "le = LabelEncoder()\n",
        "df_balanced['emotion_label'] = le.fit_transform(df_balanced['emotion'])\n",
        "\n",
        "X_train, X_test, y_train, y_test = train_test_split(\n",
        "    df_balanced['text'], df_balanced['emotion_label'], test_size=0.2, random_state=42\n",
        ")\n"
      ],
      "metadata": {
        "id": "cGQwila0Xt4a"
      },
      "execution_count": 11,
      "outputs": []
    },
    {
      "cell_type": "code",
      "execution_count": 12,
      "metadata": {
        "id": "AGIb4YHOgExI",
        "colab": {
          "base_uri": "https://localhost:8080/"
        },
        "outputId": "cc62b81f-0bcc-4867-9e80-a7d86ed5e7df"
      },
      "outputs": [
        {
          "output_type": "stream",
          "name": "stdout",
          "text": [
            "X_train_pad shape: (16566, 31)\n",
            "X_test_pad shape: (4142, 31)\n"
          ]
        }
      ],
      "source": [
        "tokenizer = Tokenizer(num_words=5000, oov_token=\"<OOV>\")\n",
        "tokenizer.fit_on_texts(X_train)\n",
        "\n",
        "X_train_seq = tokenizer.texts_to_sequences(X_train)\n",
        "X_test_seq = tokenizer.texts_to_sequences(X_test)\n",
        "\n",
        "max_sequence_length = max([len(x) for x in X_train_seq])\n",
        "X_train_pad = pad_sequences(X_train_seq, maxlen=max_sequence_length, padding='post')\n",
        "X_test_pad = pad_sequences(X_test_seq, maxlen=max_sequence_length, padding='post')\n",
        "\n",
        "print(f\"X_train_pad shape: {X_train_pad.shape}\")\n",
        "print(f\"X_test_pad shape: {X_test_pad.shape}\")\n"
      ]
    },
    {
      "cell_type": "code",
      "source": [
        "max_sequence_length = max([len(x) for x in X_train_seq])\n",
        "print(f\"Panjang maksimum dari teks dalam dataset: {max_sequence_length}\")"
      ],
      "metadata": {
        "colab": {
          "base_uri": "https://localhost:8080/"
        },
        "id": "xgJuUtiuwMjd",
        "outputId": "2360f918-c501-43db-d551-82ffa898ee67"
      },
      "execution_count": 13,
      "outputs": [
        {
          "output_type": "stream",
          "name": "stdout",
          "text": [
            "Panjang maksimum dari teks dalam dataset: 31\n"
          ]
        }
      ]
    },
    {
      "cell_type": "code",
      "source": [
        "tokenizer = Tokenizer()\n",
        "tokenizer.fit_on_texts(X_train)\n",
        "\n",
        "vocab_size = len(tokenizer.word_index) + 1\n",
        "print(f\"Jumlah kata unik: {vocab_size}\")\n"
      ],
      "metadata": {
        "colab": {
          "base_uri": "https://localhost:8080/"
        },
        "id": "0dXQz-LutaDn",
        "outputId": "9982ed16-254d-4e31-c794-7adf06dfcb19"
      },
      "execution_count": 14,
      "outputs": [
        {
          "output_type": "stream",
          "name": "stdout",
          "text": [
            "Jumlah kata unik: 16247\n"
          ]
        }
      ]
    },
    {
      "cell_type": "code",
      "source": [
        "vocab_size = len(tokenizer.word_index) + 1\n",
        "print(vocab_size)"
      ],
      "metadata": {
        "colab": {
          "base_uri": "https://localhost:8080/"
        },
        "id": "jfMyxddWxGQW",
        "outputId": "ff019b97-9dad-41bd-f77f-45e286202290"
      },
      "execution_count": 15,
      "outputs": [
        {
          "output_type": "stream",
          "name": "stdout",
          "text": [
            "16247\n"
          ]
        }
      ]
    },
    {
      "cell_type": "code",
      "execution_count": 28,
      "metadata": {
        "id": "KI0-8JTuXHOC"
      },
      "outputs": [],
      "source": [
        "vocab_size = len(tokenizer.word_index) + 1\n",
        "model = Sequential()\n",
        "\n",
        "model.add(Embedding(input_dim=vocab_size, output_dim=128, input_length=max_sequence_length))\n",
        "model.add(LSTM(64, return_sequences=False))\n",
        "model.add(Dropout(0.5))\n",
        "model.add(Dense(4, activation='softmax'))\n",
        "\n",
        "model.compile(loss='sparse_categorical_crossentropy',\n",
        "              optimizer=Adam(),\n",
        "              metrics=['accuracy'])\n"
      ]
    },
    {
      "cell_type": "code",
      "execution_count": 29,
      "metadata": {
        "id": "_wJpmBINdbLk",
        "colab": {
          "base_uri": "https://localhost:8080/",
          "height": 257
        },
        "outputId": "6007fa1f-ba08-47f8-a65e-8882a6b5bf9a"
      },
      "outputs": [
        {
          "output_type": "display_data",
          "data": {
            "text/plain": [
              "\u001b[1mModel: \"sequential_3\"\u001b[0m\n"
            ],
            "text/html": [
              "<pre style=\"white-space:pre;overflow-x:auto;line-height:normal;font-family:Menlo,'DejaVu Sans Mono',consolas,'Courier New',monospace\"><span style=\"font-weight: bold\">Model: \"sequential_3\"</span>\n",
              "</pre>\n"
            ]
          },
          "metadata": {}
        },
        {
          "output_type": "display_data",
          "data": {
            "text/plain": [
              "┏━━━━━━━━━━━━━━━━━━━━━━━━━━━━━━━━━━━━━━┳━━━━━━━━━━━━━━━━━━━━━━━━━━━━━┳━━━━━━━━━━━━━━━━━┓\n",
              "┃\u001b[1m \u001b[0m\u001b[1mLayer (type)                        \u001b[0m\u001b[1m \u001b[0m┃\u001b[1m \u001b[0m\u001b[1mOutput Shape               \u001b[0m\u001b[1m \u001b[0m┃\u001b[1m \u001b[0m\u001b[1m        Param #\u001b[0m\u001b[1m \u001b[0m┃\n",
              "┡━━━━━━━━━━━━━━━━━━━━━━━━━━━━━━━━━━━━━━╇━━━━━━━━━━━━━━━━━━━━━━━━━━━━━╇━━━━━━━━━━━━━━━━━┩\n",
              "│ embedding_3 (\u001b[38;5;33mEmbedding\u001b[0m)              │ ?                           │     \u001b[38;5;34m0\u001b[0m (unbuilt) │\n",
              "├──────────────────────────────────────┼─────────────────────────────┼─────────────────┤\n",
              "│ lstm_5 (\u001b[38;5;33mLSTM\u001b[0m)                        │ ?                           │     \u001b[38;5;34m0\u001b[0m (unbuilt) │\n",
              "├──────────────────────────────────────┼─────────────────────────────┼─────────────────┤\n",
              "│ dropout_5 (\u001b[38;5;33mDropout\u001b[0m)                  │ ?                           │     \u001b[38;5;34m0\u001b[0m (unbuilt) │\n",
              "├──────────────────────────────────────┼─────────────────────────────┼─────────────────┤\n",
              "│ dense_3 (\u001b[38;5;33mDense\u001b[0m)                      │ ?                           │     \u001b[38;5;34m0\u001b[0m (unbuilt) │\n",
              "└──────────────────────────────────────┴─────────────────────────────┴─────────────────┘\n"
            ],
            "text/html": [
              "<pre style=\"white-space:pre;overflow-x:auto;line-height:normal;font-family:Menlo,'DejaVu Sans Mono',consolas,'Courier New',monospace\">┏━━━━━━━━━━━━━━━━━━━━━━━━━━━━━━━━━━━━━━┳━━━━━━━━━━━━━━━━━━━━━━━━━━━━━┳━━━━━━━━━━━━━━━━━┓\n",
              "┃<span style=\"font-weight: bold\"> Layer (type)                         </span>┃<span style=\"font-weight: bold\"> Output Shape                </span>┃<span style=\"font-weight: bold\">         Param # </span>┃\n",
              "┡━━━━━━━━━━━━━━━━━━━━━━━━━━━━━━━━━━━━━━╇━━━━━━━━━━━━━━━━━━━━━━━━━━━━━╇━━━━━━━━━━━━━━━━━┩\n",
              "│ embedding_3 (<span style=\"color: #0087ff; text-decoration-color: #0087ff\">Embedding</span>)              │ ?                           │     <span style=\"color: #00af00; text-decoration-color: #00af00\">0</span> (unbuilt) │\n",
              "├──────────────────────────────────────┼─────────────────────────────┼─────────────────┤\n",
              "│ lstm_5 (<span style=\"color: #0087ff; text-decoration-color: #0087ff\">LSTM</span>)                        │ ?                           │     <span style=\"color: #00af00; text-decoration-color: #00af00\">0</span> (unbuilt) │\n",
              "├──────────────────────────────────────┼─────────────────────────────┼─────────────────┤\n",
              "│ dropout_5 (<span style=\"color: #0087ff; text-decoration-color: #0087ff\">Dropout</span>)                  │ ?                           │     <span style=\"color: #00af00; text-decoration-color: #00af00\">0</span> (unbuilt) │\n",
              "├──────────────────────────────────────┼─────────────────────────────┼─────────────────┤\n",
              "│ dense_3 (<span style=\"color: #0087ff; text-decoration-color: #0087ff\">Dense</span>)                      │ ?                           │     <span style=\"color: #00af00; text-decoration-color: #00af00\">0</span> (unbuilt) │\n",
              "└──────────────────────────────────────┴─────────────────────────────┴─────────────────┘\n",
              "</pre>\n"
            ]
          },
          "metadata": {}
        },
        {
          "output_type": "display_data",
          "data": {
            "text/plain": [
              "\u001b[1m Total params: \u001b[0m\u001b[38;5;34m0\u001b[0m (0.00 B)\n"
            ],
            "text/html": [
              "<pre style=\"white-space:pre;overflow-x:auto;line-height:normal;font-family:Menlo,'DejaVu Sans Mono',consolas,'Courier New',monospace\"><span style=\"font-weight: bold\"> Total params: </span><span style=\"color: #00af00; text-decoration-color: #00af00\">0</span> (0.00 B)\n",
              "</pre>\n"
            ]
          },
          "metadata": {}
        },
        {
          "output_type": "display_data",
          "data": {
            "text/plain": [
              "\u001b[1m Trainable params: \u001b[0m\u001b[38;5;34m0\u001b[0m (0.00 B)\n"
            ],
            "text/html": [
              "<pre style=\"white-space:pre;overflow-x:auto;line-height:normal;font-family:Menlo,'DejaVu Sans Mono',consolas,'Courier New',monospace\"><span style=\"font-weight: bold\"> Trainable params: </span><span style=\"color: #00af00; text-decoration-color: #00af00\">0</span> (0.00 B)\n",
              "</pre>\n"
            ]
          },
          "metadata": {}
        },
        {
          "output_type": "display_data",
          "data": {
            "text/plain": [
              "\u001b[1m Non-trainable params: \u001b[0m\u001b[38;5;34m0\u001b[0m (0.00 B)\n"
            ],
            "text/html": [
              "<pre style=\"white-space:pre;overflow-x:auto;line-height:normal;font-family:Menlo,'DejaVu Sans Mono',consolas,'Courier New',monospace\"><span style=\"font-weight: bold\"> Non-trainable params: </span><span style=\"color: #00af00; text-decoration-color: #00af00\">0</span> (0.00 B)\n",
              "</pre>\n"
            ]
          },
          "metadata": {}
        }
      ],
      "source": [
        "model.summary()"
      ]
    },
    {
      "cell_type": "code",
      "execution_count": 30,
      "metadata": {
        "colab": {
          "base_uri": "https://localhost:8080/"
        },
        "id": "V-A9uovNXgF6",
        "outputId": "faadef32-080f-445e-d96b-7b013cd46791"
      },
      "outputs": [
        {
          "output_type": "stream",
          "name": "stdout",
          "text": [
            "Epoch 1/5\n",
            "\u001b[1m259/259\u001b[0m \u001b[32m━━━━━━━━━━━━━━━━━━━━\u001b[0m\u001b[37m\u001b[0m \u001b[1m4s\u001b[0m 8ms/step - accuracy: 0.2799 - loss: 1.3765 - val_accuracy: 0.4283 - val_loss: 1.2125\n",
            "Epoch 2/5\n",
            "\u001b[1m259/259\u001b[0m \u001b[32m━━━━━━━━━━━━━━━━━━━━\u001b[0m\u001b[37m\u001b[0m \u001b[1m2s\u001b[0m 6ms/step - accuracy: 0.5034 - loss: 1.1233 - val_accuracy: 0.5765 - val_loss: 1.0160\n",
            "Epoch 3/5\n",
            "\u001b[1m259/259\u001b[0m \u001b[32m━━━━━━━━━━━━━━━━━━━━\u001b[0m\u001b[37m\u001b[0m \u001b[1m2s\u001b[0m 7ms/step - accuracy: 0.6365 - loss: 0.9098 - val_accuracy: 0.5963 - val_loss: 0.9924\n",
            "Epoch 4/5\n",
            "\u001b[1m259/259\u001b[0m \u001b[32m━━━━━━━━━━━━━━━━━━━━\u001b[0m\u001b[37m\u001b[0m \u001b[1m2s\u001b[0m 6ms/step - accuracy: 0.6892 - loss: 0.8310 - val_accuracy: 0.6074 - val_loss: 1.0080\n",
            "Epoch 5/5\n",
            "\u001b[1m259/259\u001b[0m \u001b[32m━━━━━━━━━━━━━━━━━━━━\u001b[0m\u001b[37m\u001b[0m \u001b[1m3s\u001b[0m 8ms/step - accuracy: 0.7212 - loss: 0.7624 - val_accuracy: 0.5876 - val_loss: 1.0221\n"
          ]
        }
      ],
      "source": [
        "history = model.fit(\n",
        "    X_train_pad,\n",
        "    y_train,\n",
        "    epochs=5,\n",
        "    batch_size=64,\n",
        "    validation_data=(X_test_pad, y_test)\n",
        ")\n"
      ]
    },
    {
      "cell_type": "code",
      "execution_count": 31,
      "metadata": {
        "id": "gEl75u6XY1FD",
        "colab": {
          "base_uri": "https://localhost:8080/"
        },
        "outputId": "725703a8-5825-4eff-aea0-0f444a296a2f"
      },
      "outputs": [
        {
          "output_type": "stream",
          "name": "stdout",
          "text": [
            "\u001b[1m130/130\u001b[0m \u001b[32m━━━━━━━━━━━━━━━━━━━━\u001b[0m\u001b[37m\u001b[0m \u001b[1m1s\u001b[0m 4ms/step - accuracy: 0.5946 - loss: 1.0217\n",
            "Test Loss: 1.022050380706787\n",
            "Test Accuracy: 0.587638795375824\n"
          ]
        }
      ],
      "source": [
        "loss, accuracy = model.evaluate(X_test_pad, y_test)\n",
        "print(f\"Test Loss: {loss}\")\n",
        "print(f\"Test Accuracy: {accuracy}\")\n"
      ]
    },
    {
      "cell_type": "code",
      "source": [
        "from sklearn.metrics import classification_report\n",
        "\n",
        "y_pred_probs = model.predict(X_test_pad)\n",
        "y_pred_classes = y_pred_probs.argmax(axis=1)\n",
        "\n",
        "print(classification_report(y_test, y_pred_classes, target_names=le.classes_))"
      ],
      "metadata": {
        "colab": {
          "base_uri": "https://localhost:8080/"
        },
        "id": "28BU8OWnrnWy",
        "outputId": "daab7ab6-5699-41ab-88a8-18eb1218effa"
      },
      "execution_count": 32,
      "outputs": [
        {
          "output_type": "stream",
          "name": "stdout",
          "text": [
            "\u001b[1m130/130\u001b[0m \u001b[32m━━━━━━━━━━━━━━━━━━━━\u001b[0m\u001b[37m\u001b[0m \u001b[1m1s\u001b[0m 5ms/step\n",
            "              precision    recall  f1-score   support\n",
            "\n",
            "       marah       0.64      0.53      0.58      1170\n",
            "      netral       0.43      0.50      0.46       980\n",
            "       sedih       0.57      0.60      0.58       868\n",
            "      senang       0.72      0.71      0.71      1124\n",
            "\n",
            "    accuracy                           0.59      4142\n",
            "   macro avg       0.59      0.59      0.59      4142\n",
            "weighted avg       0.60      0.59      0.59      4142\n",
            "\n"
          ]
        }
      ]
    },
    {
      "cell_type": "code",
      "source": [
        "new_text = [\"I'm sad again\"]\n",
        "\n",
        "new_text_seq = tokenizer.texts_to_sequences(new_text)\n",
        "new_text_pad = pad_sequences(new_text_seq, maxlen=max_sequence_length, padding='post')\n",
        "\n",
        "new_pred = model.predict(new_text_pad)\n",
        "\n",
        "new_pred_class = np.argmax(new_pred, axis=1)\n",
        "\n",
        "print(f\"Predicted Emotion for '{new_text[0]}': {le.inverse_transform(new_pred_class)[0]}\")\n"
      ],
      "metadata": {
        "colab": {
          "base_uri": "https://localhost:8080/"
        },
        "id": "IFAI8NZUrouR",
        "outputId": "f05e8181-82ad-4a70-ace1-0bf23a5cd7c8"
      },
      "execution_count": 33,
      "outputs": [
        {
          "output_type": "stream",
          "name": "stdout",
          "text": [
            "\u001b[1m1/1\u001b[0m \u001b[32m━━━━━━━━━━━━━━━━━━━━\u001b[0m\u001b[37m\u001b[0m \u001b[1m0s\u001b[0m 34ms/step\n",
            "Predicted Emotion for 'I'm sad again': marah\n"
          ]
        }
      ]
    },
    {
      "cell_type": "markdown",
      "source": [
        "###(BERT-base memiliki 110 juta parameter)"
      ],
      "metadata": {
        "id": "Bh6LatQa3hmJ"
      }
    },
    {
      "cell_type": "code",
      "source": [],
      "metadata": {
        "id": "n8lBbZ5bZvYn"
      },
      "execution_count": 21,
      "outputs": []
    }
  ],
  "metadata": {
    "colab": {
      "provenance": [],
      "gpuType": "T4"
    },
    "kernelspec": {
      "display_name": "Python 3",
      "name": "python3"
    },
    "language_info": {
      "name": "python"
    },
    "accelerator": "GPU"
  },
  "nbformat": 4,
  "nbformat_minor": 0
}